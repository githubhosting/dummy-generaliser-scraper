{
 "cells": [
  {
   "cell_type": "code",
   "id": "initial_id",
   "metadata": {
    "collapsed": true,
    "ExecuteTime": {
     "end_time": "2024-04-21T11:29:04.747135Z",
     "start_time": "2024-04-21T11:29:03.389650Z"
    }
   },
   "source": [
    "import json\n",
    "import re\n",
    "import pandas as pd"
   ],
   "outputs": [],
   "execution_count": 1
  },
  {
   "metadata": {
    "ExecuteTime": {
     "end_time": "2024-04-21T11:29:04.774304Z",
     "start_time": "2024-04-21T11:29:04.747135Z"
    }
   },
   "cell_type": "code",
   "source": "df = pd.read_json('rawdata/myharvestfarms/json_urls.json')",
   "id": "f3c3e8d00e5e1d9b",
   "outputs": [],
   "execution_count": 2
  },
  {
   "metadata": {
    "ExecuteTime": {
     "end_time": "2024-04-21T11:29:06.289723Z",
     "start_time": "2024-04-21T11:29:06.274199Z"
    }
   },
   "cell_type": "code",
   "source": "df.info()",
   "id": "cd77d9c62cc13143",
   "outputs": [
    {
     "name": "stdout",
     "output_type": "stream",
     "text": [
      "<class 'pandas.core.frame.DataFrame'>\n",
      "RangeIndex: 370 entries, 0 to 369\n",
      "Data columns (total 2 columns):\n",
      " #   Column   Non-Null Count  Dtype \n",
      "---  ------   --------------  ----- \n",
      " 0   urlname  370 non-null    object\n",
      " 1   url      370 non-null    object\n",
      "dtypes: object(2)\n",
      "memory usage: 5.9+ KB\n"
     ]
    }
   ],
   "execution_count": 3
  },
  {
   "metadata": {
    "ExecuteTime": {
     "end_time": "2024-04-21T11:29:08.788798Z",
     "start_time": "2024-04-21T11:29:08.773899Z"
    }
   },
   "cell_type": "code",
   "source": [
    "def filter_product_urls(df):\n",
    "    # Regex pattern that matches URLs that contain '/product/' or similar structures\n",
    "    product_url_pattern = re.compile(r'https?://www\\.neidhal\\.com/product/[^ ]+')\n",
    "    product_urls_ = df[df['url'].str.contains(product_url_pattern)]\n",
    "    return product_urls_"
   ],
   "id": "abf4665855ff8f4c",
   "outputs": [],
   "execution_count": 4
  },
  {
   "metadata": {
    "ExecuteTime": {
     "end_time": "2024-04-21T11:29:09.130531Z",
     "start_time": "2024-04-21T11:29:09.119294Z"
    }
   },
   "cell_type": "code",
   "source": [
    "def any_filter_product_urls(df):\n",
    "    # Regex pattern that matches URLs that contain '/product/' for any domain\n",
    "    product_url_pattern = re.compile(r'https?://[^/]+/product/[^ ]+')\n",
    "    df['match'] = df['url'].apply(lambda x: bool(product_url_pattern.search(x)))\n",
    "    product_urls_ = df[df['match']]\n",
    "    return product_urls_"
   ],
   "id": "9be3cf8241ebd6b3",
   "outputs": [],
   "execution_count": 5
  },
  {
   "metadata": {
    "ExecuteTime": {
     "end_time": "2024-04-21T11:29:09.596594Z",
     "start_time": "2024-04-21T11:29:09.586068Z"
    }
   },
   "cell_type": "code",
   "source": [
    "# Filter product URLs\n",
    "product_urls = filter_product_urls(df)\n",
    "any_product_urls = any_filter_product_urls(df)"
   ],
   "id": "c4cb2cc5f59ca955",
   "outputs": [],
   "execution_count": 6
  },
  {
   "metadata": {
    "ExecuteTime": {
     "end_time": "2024-04-21T11:29:11.476606Z",
     "start_time": "2024-04-21T11:29:11.455155Z"
    }
   },
   "cell_type": "code",
   "source": "any_product_urls",
   "id": "94d099d638d34ea9",
   "outputs": [
    {
     "data": {
      "text/plain": [
       "                                               urlname  \\\n",
       "16                                            Wishlist   \n",
       "21   https://shop.myharvestfarms.com/product/panang...   \n",
       "22                                    Previous product   \n",
       "23                                    Previous product   \n",
       "24                                    Previous product   \n",
       "..                                                 ...   \n",
       "234                                   Previous product   \n",
       "236  https://shop.myharvestfarms.com/product/kuthir...   \n",
       "238  https://shop.myharvestfarms.com/product/kuthir...   \n",
       "246                                       Next product   \n",
       "260  https://shop.myharvestfarms.com/product/kaarab...   \n",
       "\n",
       "                                                   url  match  \n",
       "16   https://shop.myharvestfarms.com/product/karupa...   True  \n",
       "21   https://shop.myharvestfarms.com/product/panang...   True  \n",
       "22   https://shop.myharvestfarms.com/product/wheat-...   True  \n",
       "23    https://shop.myharvestfarms.com/product/omapodi/   True  \n",
       "24   https://shop.myharvestfarms.com/product/ragi-m...   True  \n",
       "..                                                 ...    ...  \n",
       "234  https://shop.myharvestfarms.com/product/varagu...   True  \n",
       "236  https://shop.myharvestfarms.com/product/kuthir...   True  \n",
       "238  https://shop.myharvestfarms.com/product/kuthir...   True  \n",
       "246  https://shop.myharvestfarms.com/product/thinai...   True  \n",
       "260  https://shop.myharvestfarms.com/product/kaarab...   True  \n",
       "\n",
       "[148 rows x 3 columns]"
      ],
      "text/html": [
       "<div>\n",
       "<style scoped>\n",
       "    .dataframe tbody tr th:only-of-type {\n",
       "        vertical-align: middle;\n",
       "    }\n",
       "\n",
       "    .dataframe tbody tr th {\n",
       "        vertical-align: top;\n",
       "    }\n",
       "\n",
       "    .dataframe thead th {\n",
       "        text-align: right;\n",
       "    }\n",
       "</style>\n",
       "<table border=\"1\" class=\"dataframe\">\n",
       "  <thead>\n",
       "    <tr style=\"text-align: right;\">\n",
       "      <th></th>\n",
       "      <th>urlname</th>\n",
       "      <th>url</th>\n",
       "      <th>match</th>\n",
       "    </tr>\n",
       "  </thead>\n",
       "  <tbody>\n",
       "    <tr>\n",
       "      <th>16</th>\n",
       "      <td>Wishlist</td>\n",
       "      <td>https://shop.myharvestfarms.com/product/karupa...</td>\n",
       "      <td>True</td>\n",
       "    </tr>\n",
       "    <tr>\n",
       "      <th>21</th>\n",
       "      <td>https://shop.myharvestfarms.com/product/panang...</td>\n",
       "      <td>https://shop.myharvestfarms.com/product/panang...</td>\n",
       "      <td>True</td>\n",
       "    </tr>\n",
       "    <tr>\n",
       "      <th>22</th>\n",
       "      <td>Previous product</td>\n",
       "      <td>https://shop.myharvestfarms.com/product/wheat-...</td>\n",
       "      <td>True</td>\n",
       "    </tr>\n",
       "    <tr>\n",
       "      <th>23</th>\n",
       "      <td>Previous product</td>\n",
       "      <td>https://shop.myharvestfarms.com/product/omapodi/</td>\n",
       "      <td>True</td>\n",
       "    </tr>\n",
       "    <tr>\n",
       "      <th>24</th>\n",
       "      <td>Previous product</td>\n",
       "      <td>https://shop.myharvestfarms.com/product/ragi-m...</td>\n",
       "      <td>True</td>\n",
       "    </tr>\n",
       "    <tr>\n",
       "      <th>...</th>\n",
       "      <td>...</td>\n",
       "      <td>...</td>\n",
       "      <td>...</td>\n",
       "    </tr>\n",
       "    <tr>\n",
       "      <th>234</th>\n",
       "      <td>Previous product</td>\n",
       "      <td>https://shop.myharvestfarms.com/product/varagu...</td>\n",
       "      <td>True</td>\n",
       "    </tr>\n",
       "    <tr>\n",
       "      <th>236</th>\n",
       "      <td>https://shop.myharvestfarms.com/product/kuthir...</td>\n",
       "      <td>https://shop.myharvestfarms.com/product/kuthir...</td>\n",
       "      <td>True</td>\n",
       "    </tr>\n",
       "    <tr>\n",
       "      <th>238</th>\n",
       "      <td>https://shop.myharvestfarms.com/product/kuthir...</td>\n",
       "      <td>https://shop.myharvestfarms.com/product/kuthir...</td>\n",
       "      <td>True</td>\n",
       "    </tr>\n",
       "    <tr>\n",
       "      <th>246</th>\n",
       "      <td>Next product</td>\n",
       "      <td>https://shop.myharvestfarms.com/product/thinai...</td>\n",
       "      <td>True</td>\n",
       "    </tr>\n",
       "    <tr>\n",
       "      <th>260</th>\n",
       "      <td>https://shop.myharvestfarms.com/product/kaarab...</td>\n",
       "      <td>https://shop.myharvestfarms.com/product/kaarab...</td>\n",
       "      <td>True</td>\n",
       "    </tr>\n",
       "  </tbody>\n",
       "</table>\n",
       "<p>148 rows × 3 columns</p>\n",
       "</div>"
      ]
     },
     "execution_count": 7,
     "metadata": {},
     "output_type": "execute_result"
    }
   ],
   "execution_count": 7
  },
  {
   "metadata": {
    "ExecuteTime": {
     "end_time": "2024-04-21T06:46:27.355265Z",
     "start_time": "2024-04-21T06:46:27.343089Z"
    }
   },
   "cell_type": "code",
   "source": [
    "# save to csv\n",
    "any_product_urls.to_csv('rawdata/myharvestfarms/product_urls.csv', index=False)"
   ],
   "id": "bdf2ec4dc2d56090",
   "outputs": [],
   "execution_count": 74
  },
  {
   "metadata": {},
   "cell_type": "code",
   "source": [
    "from newfetchUrl import get_soup\n",
    "\n",
    "for url in any_product_urls['url']:\n",
    "    soup = get_soup(url, use_selenium=True)\n",
    "    print(soup.title.text)"
   ],
   "id": "8bf2c44ebf2249bc",
   "outputs": [],
   "execution_count": null
  },
  {
   "metadata": {},
   "cell_type": "code",
   "source": [
    "from generalScraper import process_url\n",
    "\n",
    "for url in any_product_urls['url']:\n",
    "    process_url(url)"
   ],
   "id": "1b00e38140aef33b",
   "outputs": [],
   "execution_count": null
  }
 ],
 "metadata": {
  "kernelspec": {
   "display_name": "Python 3",
   "language": "python",
   "name": "python3"
  },
  "language_info": {
   "codemirror_mode": {
    "name": "ipython",
    "version": 2
   },
   "file_extension": ".py",
   "mimetype": "text/x-python",
   "name": "python",
   "nbconvert_exporter": "python",
   "pygments_lexer": "ipython2",
   "version": "2.7.6"
  }
 },
 "nbformat": 4,
 "nbformat_minor": 5
}
